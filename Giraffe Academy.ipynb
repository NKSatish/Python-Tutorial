{
 "cells": [
  {
   "cell_type": "markdown",
   "id": "ad228ef3-8f23-4be1-ac93-e6750f95b834",
   "metadata": {},
   "source": [
    "##### Chapter 1"
   ]
  },
  {
   "cell_type": "code",
   "execution_count": 1,
   "id": "f6798e40-bb5a-47bf-9ba2-59b2bbac0de8",
   "metadata": {},
   "outputs": [
    {
     "name": "stdout",
     "output_type": "stream",
     "text": [
      "Hello World\n"
     ]
    }
   ],
   "source": [
    "print(\"Hello World\")"
   ]
  },
  {
   "cell_type": "code",
   "execution_count": 2,
   "id": "bba4a64a-b854-4902-994e-1fa4f66794a5",
   "metadata": {},
   "outputs": [
    {
     "name": "stdout",
     "output_type": "stream",
     "text": [
      "Hello Friends\n",
      "Numbers 12345.......\n"
     ]
    }
   ],
   "source": [
    "print(\"Hello Friends\")\n",
    "print(\"Numbers 12345.......\")"
   ]
  },
  {
   "cell_type": "markdown",
   "id": "336779ff-6d6a-446d-83bc-08517048e508",
   "metadata": {},
   "source": [
    "# chapter 2 "
   ]
  },
  {
   "cell_type": "code",
   "execution_count": 3,
   "id": "fbe2a1c3-b8d9-49db-b6a5-d9c056fe1bfa",
   "metadata": {},
   "outputs": [
    {
     "name": "stdout",
     "output_type": "stream",
     "text": [
      "Requirement already satisfied: pandas in c:\\users\\satis\\anaconda3\\lib\\site-packages (2.2.2)\n",
      "Requirement already satisfied: numpy>=1.26.0 in c:\\users\\satis\\anaconda3\\lib\\site-packages (from pandas) (1.26.4)\n",
      "Requirement already satisfied: python-dateutil>=2.8.2 in c:\\users\\satis\\anaconda3\\lib\\site-packages (from pandas) (2.9.0.post0)\n",
      "Requirement already satisfied: pytz>=2020.1 in c:\\users\\satis\\anaconda3\\lib\\site-packages (from pandas) (2024.1)\n",
      "Requirement already satisfied: tzdata>=2022.7 in c:\\users\\satis\\anaconda3\\lib\\site-packages (from pandas) (2023.3)\n",
      "Requirement already satisfied: six>=1.5 in c:\\users\\satis\\anaconda3\\lib\\site-packages (from python-dateutil>=2.8.2->pandas) (1.16.0)\n",
      "Note: you may need to restart the kernel to use updated packages.\n"
     ]
    }
   ],
   "source": [
    "pip install pandas"
   ]
  },
  {
   "cell_type": "code",
   "execution_count": 4,
   "id": "f2cefcfa-c083-4628-a066-8a4d7130e11d",
   "metadata": {},
   "outputs": [],
   "source": [
    "import pandas"
   ]
  },
  {
   "cell_type": "code",
   "execution_count": 5,
   "id": "fec1e0a3-e55e-4a35-9660-e3eeb354610e",
   "metadata": {},
   "outputs": [
    {
     "name": "stdout",
     "output_type": "stream",
     "text": [
      "Hi\n"
     ]
    }
   ],
   "source": [
    "print(\"Hi\")"
   ]
  },
  {
   "cell_type": "code",
   "execution_count": 6,
   "id": "eaf12079-1240-4546-94f7-87c9ca4069ac",
   "metadata": {},
   "outputs": [
    {
     "name": "stdout",
     "output_type": "stream",
     "text": [
      "hello world\n",
      "5\n",
      "Bye\n",
      "10 hello python\n",
      "100\n",
      "2500\n",
      "0\n",
      "1.0\n"
     ]
    }
   ],
   "source": [
    "print(\"hello world\")\n",
    "print(5)\n",
    "print(\"Bye\")\n",
    "print(10, \"hello python\")\n",
    "print(50+50)\n",
    "print(50*50)\n",
    "print(50-50)\n",
    "print(50/50)\n"
   ]
  },
  {
   "cell_type": "code",
   "execution_count": 7,
   "id": "b7167731-df19-44b0-9524-fd0bca97c3e8",
   "metadata": {},
   "outputs": [
    {
     "name": "stdout",
     "output_type": "stream",
     "text": [
      "Hey I am a good boy\n",
      "and this viewer is also a good boy/girl\n"
     ]
    }
   ],
   "source": [
    "print(\"Hey I am a good boy\\nand this viewer is also a good boy/girl\")"
   ]
  },
  {
   "cell_type": "markdown",
   "id": "96ef21c0-5c5f-468c-9546-fc8c86cd9336",
   "metadata": {},
   "source": [
    "# chapter 3 [Escape sequence characters]"
   ]
  },
  {
   "cell_type": "code",
   "execution_count": 8,
   "id": "92254ae7-6553-4d57-a800-79c408f67ad8",
   "metadata": {},
   "outputs": [
    {
     "name": "stdout",
     "output_type": "stream",
     "text": [
      "It is tab\t character\n"
     ]
    }
   ],
   "source": [
    "print(\"It is tab\\t character\") "
   ]
  },
  {
   "cell_type": "code",
   "execution_count": 9,
   "id": "1d12e37d-06b9-432d-a77e-2d1d73815c17",
   "metadata": {},
   "outputs": [
    {
     "name": "stdout",
     "output_type": "stream",
     "text": [
      "This is literal backslash in \\ python.\n"
     ]
    }
   ],
   "source": [
    "print(\"This is literal backslash in \\\\ python.\")"
   ]
  },
  {
   "cell_type": "code",
   "execution_count": 10,
   "id": "329491a5-980f-4237-a0dd-97a8e1e0ec67",
   "metadata": {},
   "outputs": [
    {
     "name": "stdout",
     "output_type": "stream",
     "text": [
      "I'm very laborious.\n"
     ]
    }
   ],
   "source": [
    "print(\"I\\'m very laborious.\")"
   ]
  },
  {
   "cell_type": "code",
   "execution_count": 11,
   "id": "920fd1b8-0841-4460-bcbd-ddb0b0e9d983",
   "metadata": {},
   "outputs": [
    {
     "name": "stdout",
     "output_type": "stream",
     "text": [
      "The lion is king of forest \"Amazing\". \n"
     ]
    }
   ],
   "source": [
    "print(\"The lion is king of forest \\\"Amazing\\\". \")"
   ]
  },
  {
   "cell_type": "code",
   "execution_count": 12,
   "id": "c1e9e454-b6e2-48cb-be2d-74e887cbac82",
   "metadata": {},
   "outputs": [
    {
     "name": "stdout",
     "output_type": "stream",
     "text": [
      "This is a \"single line comment\". \n"
     ]
    }
   ],
   "source": [
    "# this is a single line comment \n",
    "print(\"This is a \\\"single line comment\\\". \")"
   ]
  },
  {
   "cell_type": "code",
   "execution_count": 13,
   "id": "eba2f5c7-5dba-4910-8469-bfc32e346bf6",
   "metadata": {},
   "outputs": [
    {
     "name": "stdout",
     "output_type": "stream",
     "text": [
      "This is triple single quote.\n"
     ]
    }
   ],
   "source": [
    "'''\n",
    "Hey bro, please don't remove this line \n",
    "New bro\n",
    "course : python\n",
    "'''\n",
    "print(\"This is triple single quote.\")\n"
   ]
  },
  {
   "cell_type": "code",
   "execution_count": 14,
   "id": "6e9cb424-4c69-456e-8020-06f9e9c7aa33",
   "metadata": {},
   "outputs": [
    {
     "name": "stdout",
     "output_type": "stream",
     "text": [
      "This is triple double quote.\n"
     ]
    }
   ],
   "source": [
    "\"\"\"\n",
    "Hey bikku, please don't remove this paragraph\n",
    "bro\n",
    "course : python\n",
    "\"\"\"\n",
    "print(\"This is triple double quote.\")"
   ]
  },
  {
   "cell_type": "markdown",
   "id": "e91fa9af-a69a-414d-9d81-651ebc90196f",
   "metadata": {},
   "source": [
    "# chapter 4 [variable and data types]"
   ]
  },
  {
   "cell_type": "code",
   "execution_count": 15,
   "id": "e0586db4-2849-4dba-9074-a2b4961b03ab",
   "metadata": {},
   "outputs": [
    {
     "name": "stdout",
     "output_type": "stream",
     "text": [
      "5\n"
     ]
    }
   ],
   "source": [
    "a=5\n",
    "print(a)"
   ]
  },
  {
   "cell_type": "code",
   "execution_count": 16,
   "id": "110d556c-2299-49ac-b01f-e29dc6fbb04f",
   "metadata": {},
   "outputs": [
    {
     "name": "stdout",
     "output_type": "stream",
     "text": [
      "50\n"
     ]
    }
   ],
   "source": [
    "c=50\n",
    "print(c)"
   ]
  },
  {
   "cell_type": "code",
   "execution_count": 17,
   "id": "629b3754-32f2-44d3-abc9-623241bb6ef9",
   "metadata": {},
   "outputs": [
    {
     "name": "stdout",
     "output_type": "stream",
     "text": [
      "12345\n",
      "1123\n",
      "9874\n"
     ]
    }
   ],
   "source": [
    "a=12345\n",
    "print(a)\n",
    "b=1123\n",
    "print(b)\n",
    "c=9874\n",
    "print(c)"
   ]
  },
  {
   "cell_type": "code",
   "execution_count": 18,
   "id": "2f0344f7-a7da-4c71-9d1e-3c2d7381882a",
   "metadata": {},
   "outputs": [
    {
     "name": "stdout",
     "output_type": "stream",
     "text": [
      "123\n",
      "123\n",
      "246\n",
      "0\n",
      "15129\n",
      "1.0\n"
     ]
    }
   ],
   "source": [
    "a=123\n",
    "print(a)\n",
    "b=123\n",
    "print(b)\n",
    "print(a+b)\n",
    "print(a-b)\n",
    "print(a*b)\n",
    "print(a/b)"
   ]
  },
  {
   "cell_type": "code",
   "execution_count": 19,
   "id": "2bfa6507-b9ff-42de-ab22-3c6fc8178bd8",
   "metadata": {},
   "outputs": [
    {
     "name": "stdout",
     "output_type": "stream",
     "text": [
      "<class 'int'>\n",
      "<class 'float'>\n",
      "hello\n",
      "<class 'str'>\n",
      "<class 'bool'>\n",
      "<class 'list'>\n",
      "<class 'tuple'>\n",
      "<class 'dict'>\n",
      "<class 'set'>\n"
     ]
    }
   ],
   "source": [
    "a=1\n",
    "print(type(a))\n",
    "b=1.1\n",
    "print(type(b))\n",
    "c=\"hello\"\n",
    "print(c)\n",
    "d='Python'\n",
    "print(type(d))\n",
    "e=True\n",
    "print(type(e))\n",
    "f=[1,2, \"apple\"]\n",
    "print(type(f))\n",
    "g=(1,2, \"banana\")\n",
    "print(type(g))\n",
    "h={\"name\":\"Bob\",\"age\":25}\n",
    "print(type(h))\n",
    "i={1,2,3}\n",
    "print(type(i))"
   ]
  },
  {
   "cell_type": "code",
   "execution_count": 20,
   "id": "684e9f23-55de-449d-b588-eda167a03a6a",
   "metadata": {},
   "outputs": [
    {
     "name": "stdout",
     "output_type": "stream",
     "text": [
      "<class 'int'>\n",
      "<class 'float'>\n",
      "<class 'str'>\n",
      "<class 'str'>\n",
      "<class 'bool'>\n",
      "<class 'tuple'>\n",
      "<class 'tuple'>\n",
      "<class 'dict'>\n",
      "<class 'set'>\n",
      "<class 'complex'>\n"
     ]
    }
   ],
   "source": [
    "a=1\n",
    "b=1.1\n",
    "c=\"hello\"\n",
    "d='Python'\n",
    "e=True\n",
    "f=(1,2, \"apple\")\n",
    "g=(1,2, \"banana\")\n",
    "h={\"name\":\"Bob\",\"age\":25}\n",
    "i={1,2,3}\n",
    "k= complex(8, 2)\n",
    "print(type(a))\n",
    "print(type(b))\n",
    "print(type(c))\n",
    "print(type(d))\n",
    "print(type(e))\n",
    "print(type(f))\n",
    "print(type(g))\n",
    "print(type(h))\n",
    "print(type(i))\n",
    "print(type(k))"
   ]
  },
  {
   "cell_type": "markdown",
   "id": "9334deaa-8a96-4f52-8e80-eb3a328690e3",
   "metadata": {},
   "source": [
    "#Chapter 5 arithmetic operators"
   ]
  },
  {
   "cell_type": "raw",
   "id": "2aef407e-bd48-4761-808a-e81abe802860",
   "metadata": {},
   "source": []
  },
  {
   "cell_type": "code",
   "execution_count": 21,
   "id": "3bf30e9d-d1ff-411d-92e9-da43d6fb9296",
   "metadata": {},
   "outputs": [
    {
     "name": "stdout",
     "output_type": "stream",
     "text": [
      "10\n",
      "9\n",
      "250\n",
      "9.2\n",
      "2\n",
      "1\n",
      "32\n"
     ]
    }
   ],
   "source": [
    "print(5+5)\n",
    "print(15-6)\n",
    "print(50*5)\n",
    "print(46/5)\n",
    "print(15//6)\n",
    "print(15%7)\n",
    "print(2**5)\n"
   ]
  },
  {
   "cell_type": "markdown",
   "id": "37990ed2-e2e6-4119-8db0-bd72ee606607",
   "metadata": {},
   "source": [
    "#Calculator programming"
   ]
  },
  {
   "cell_type": "code",
   "execution_count": 22,
   "id": "daf5e64f-d9df-43e1-8338-44b42a627952",
   "metadata": {},
   "outputs": [
    {
     "name": "stdout",
     "output_type": "stream",
     "text": [
      "The value of 50 + 5 is:  55\n",
      "The value of 50 - 5 is:  45\n",
      "The value of 50 * 5 is:  250\n",
      "The value of 50 / 5 is:  10.0\n"
     ]
    }
   ],
   "source": [
    "a=50\n",
    "b=5\n",
    "print(\"The value of\", a, \"+\", 5, \"is: \", a+b)\n",
    "print(\"The value of\", a, \"-\", 5, \"is: \", a-b)\n",
    "print(\"The value of\", a, \"*\", 5, \"is: \", a*b)\n",
    "print(\"The value of\", a, \"/\", 5, \"is: \", a/b)"
   ]
  },
  {
   "cell_type": "code",
   "execution_count": 23,
   "id": "f2c6452c-dc15-466b-93f7-d6c3aee2d4b2",
   "metadata": {},
   "outputs": [
    {
     "name": "stdout",
     "output_type": "stream",
     "text": [
      "10 10\n",
      "a 10\n",
      "140712161651416 140712161651416\n"
     ]
    }
   ],
   "source": [
    "a=10\n",
    "b=10\n",
    "print(a,b)\n",
    "print('a' ,b)\n",
    "print(id(a),id(b))\n"
   ]
  },
  {
   "cell_type": "code",
   "execution_count": 24,
   "id": "2335984d-ab19-44bf-a189-211c5b9a0774",
   "metadata": {},
   "outputs": [
    {
     "name": "stdout",
     "output_type": "stream",
     "text": [
      "10 15\n",
      "a 15\n",
      "140712161651416 140712161651576\n",
      "hello\n",
      "20\n",
      "35\n",
      "20\n"
     ]
    }
   ],
   "source": [
    "a=10\n",
    "b=15\n",
    "print(a,b)\n",
    "print('a' ,b)\n",
    "print(id(a),id(b))\n",
    "c=\"hello\"\n",
    "print(c)\n",
    "a1=20\n",
    "print(a1)\n",
    "a_b=35\n",
    "print(a_b)\n",
    "_a=20\n",
    "print(_a)"
   ]
  },
  {
   "cell_type": "markdown",
   "id": "250e8d2c-12a2-4e29-8e3f-a1c422581d15",
   "metadata": {},
   "source": [
    "#string concatenation"
   ]
  },
  {
   "cell_type": "code",
   "execution_count": 25,
   "id": "01964bd3-c147-4a31-9d13-a5c55e469df5",
   "metadata": {},
   "outputs": [
    {
     "name": "stdout",
     "output_type": "stream",
     "text": [
      "hellofriends\n",
      "hello friends\n",
      "50\n"
     ]
    }
   ],
   "source": [
    "a=\"hello\"\n",
    "b=\"friends\"\n",
    "print(a+b)\n",
    "print(a+\" \"+b)\n",
    "c=20\n",
    "print(c+30)\n"
   ]
  },
  {
   "cell_type": "markdown",
   "id": "2fcf6047-3f9d-4c6f-81eb-c30705a5057b",
   "metadata": {},
   "source": [
    "#Assigment operators"
   ]
  },
  {
   "cell_type": "code",
   "execution_count": 26,
   "id": "27d0c7c0-e9c3-4fc5-b78e-5a2f0aeed612",
   "metadata": {},
   "outputs": [
    {
     "name": "stdout",
     "output_type": "stream",
     "text": [
      "5\n",
      "10\n",
      "15\n",
      "10\n",
      "5\n"
     ]
    }
   ],
   "source": [
    "x=5\n",
    "print(x)\n",
    "x=x+5\n",
    "print(x)\n",
    "\n",
    "x+=5\n",
    "print(x)\n",
    "\n",
    "x=x-5\n",
    "print(x)\n",
    "x-=5\n",
    "print(x)"
   ]
  },
  {
   "cell_type": "markdown",
   "id": "7816e3fe-f272-420f-a78f-f21839aaf141",
   "metadata": {},
   "source": [
    "#comparison operators"
   ]
  },
  {
   "cell_type": "code",
   "execution_count": 27,
   "id": "2776d810-e4d0-4d24-af54-24057b323542",
   "metadata": {},
   "outputs": [
    {
     "name": "stdout",
     "output_type": "stream",
     "text": [
      "True\n",
      "False\n",
      "True\n",
      "False\n",
      "False\n",
      "True\n",
      "True\n",
      "False\n",
      "True\n"
     ]
    }
   ],
   "source": [
    "a=10\n",
    "b=10\n",
    "print(a==b)\n",
    "print(a!=b)\n",
    "x=10\n",
    "y=20\n",
    "print(x!=y)\n",
    "print(a>b)\n",
    "print(a<b)\n",
    "print(a>=b)\n",
    "print(a<=b)\n",
    "print(x>=y)\n",
    "print(x<=y)\n"
   ]
  },
  {
   "cell_type": "markdown",
   "id": "9d8bbde9-180f-4ed8-b1fb-f3f1c9f683c4",
   "metadata": {},
   "source": [
    "#Logical operators"
   ]
  },
  {
   "cell_type": "code",
   "execution_count": 28,
   "id": "35ccea36-7e95-4982-ac01-881004889a54",
   "metadata": {},
   "outputs": [
    {
     "name": "stdout",
     "output_type": "stream",
     "text": [
      "True\n"
     ]
    }
   ],
   "source": [
    "a=10\n",
    "b=20\n",
    "print(a==10 and a<b and b>a) #return true if both statements are true"
   ]
  },
  {
   "cell_type": "code",
   "execution_count": 29,
   "id": "bbcef99e-cda7-48de-9630-7b757c23c2af",
   "metadata": {},
   "outputs": [
    {
     "name": "stdout",
     "output_type": "stream",
     "text": [
      "True\n"
     ]
    }
   ],
   "source": [
    "x=10\n",
    "y=20\n",
    "print(x==10 or x<y or x==y) #return true if one of the statements is true"
   ]
  },
  {
   "cell_type": "code",
   "execution_count": 30,
   "id": "6f1fb9fe-1a1b-4083-8d18-316c3a754f04",
   "metadata": {},
   "outputs": [
    {
     "name": "stdout",
     "output_type": "stream",
     "text": [
      "True\n"
     ]
    }
   ],
   "source": [
    "a=10\n",
    "b=20\n",
    "print(a==b or a>b or a!=b or b>a)"
   ]
  },
  {
   "cell_type": "code",
   "execution_count": 31,
   "id": "813c3afe-944c-48d0-a199-7c653d01f1d7",
   "metadata": {},
   "outputs": [
    {
     "name": "stdout",
     "output_type": "stream",
     "text": [
      "True\n"
     ]
    }
   ],
   "source": [
    "a=10 \n",
    "b=20\n",
    "print(not a!=10)"
   ]
  },
  {
   "cell_type": "markdown",
   "id": "05e14048-5305-4171-84f0-b0554ff64b26",
   "metadata": {},
   "source": [
    "#Membership Operators"
   ]
  },
  {
   "cell_type": "code",
   "execution_count": 32,
   "id": "70022734-3b7e-49fc-b9b1-6b7778fed7c3",
   "metadata": {},
   "outputs": [
    {
     "name": "stdout",
     "output_type": "stream",
     "text": [
      "True\n",
      "True\n"
     ]
    }
   ],
   "source": [
    "string1=\"Hello\"\n",
    "print('H' in string1)\n",
    "\n",
    "\n",
    "l=[10,20,30,40]\n",
    "print(50 not in l)"
   ]
  },
  {
   "cell_type": "markdown",
   "id": "e4c6c41b-37d0-44c7-9482-e074e689ac4e",
   "metadata": {},
   "source": [
    "#Identity operators"
   ]
  },
  {
   "cell_type": "code",
   "execution_count": 33,
   "id": "64919786-4af2-4fce-aa50-e12ebcf05315",
   "metadata": {},
   "outputs": [
    {
     "name": "stdout",
     "output_type": "stream",
     "text": [
      "True True\n",
      "False False\n"
     ]
    }
   ],
   "source": [
    "a=10\n",
    "b=10\n",
    "print(a is b, a==b)#\"is\"operator is perform\n",
    "print(a is not b, a!=b)"
   ]
  },
  {
   "cell_type": "markdown",
   "id": "4ecae5d3-168d-4a5f-8549-9e22ccd32ad7",
   "metadata": {},
   "source": [
    "#Bitiwise operators"
   ]
  },
  {
   "cell_type": "code",
   "execution_count": 34,
   "id": "e6870ff6-5f63-4781-959d-3aaf5faa0d48",
   "metadata": {},
   "outputs": [
    {
     "name": "stdout",
     "output_type": "stream",
     "text": [
      "0b1010\n",
      "0b1000\n",
      "0b1000 8\n",
      "0b1010 10\n",
      "0b10 2\n"
     ]
    }
   ],
   "source": [
    "a=10\n",
    "b=8\n",
    "print(bin(a))\n",
    "print(bin(b))\n",
    "print(bin(a&b),a&b)\n",
    "print(bin(a|b),a|b)\n",
    "print(bin(a^b),a^b)"
   ]
  },
  {
   "cell_type": "code",
   "execution_count": 35,
   "id": "c76f75fa-65aa-4cf4-aa99-926700f89c3e",
   "metadata": {},
   "outputs": [
    {
     "name": "stdout",
     "output_type": "stream",
     "text": [
      "10\n",
      "8\n",
      "8\n",
      "10\n",
      "2\n"
     ]
    }
   ],
   "source": [
    "a=10\n",
    "b=8\n",
    "print((a))\n",
    "print((b))\n",
    "print(a&b)\n",
    "print(a|b)\n",
    "print(a^b)"
   ]
  },
  {
   "cell_type": "markdown",
   "id": "b41e2fdf-4915-4116-aa83-0167feabbb66",
   "metadata": {},
   "source": [
    "#Data Tyoeslists"
   ]
  },
  {
   "cell_type": "raw",
   "id": "04f6e205-627e-44a8-9acf-b3cb8bd99771",
   "metadata": {},
   "source": [
    "a=5\n",
    "print(a, type(a))#int\n",
    "a=5.5\n",
    "print(a, type(a))#float\n",
    "a=2+5j\n",
    "print(a, type(a))#complex\n",
    "\n",
    "\n",
    "s=\"hello@12345\"\n",
    "print(s, type(s))#string\n",
    "s='''\n",
    "  Hello\n",
    "  welcome to programming\n",
    "'''\n",
    "print(s)\n",
    "s='10'\n",
    "print(s, type(s))\n",
    "\n",
    "l=[10,'ws',5.5]#list\n",
    "l[1]=10\n",
    "print(l,type(l))\n",
    "\n",
    "\n",
    "t=(10,20,'hello')#tuple\n",
    "print(t,type(t))\n",
    "\n",
    "d={\n",
    "    'course_name': 'python',\n",
    "    'course_duration' : '2 months'\n",
    "}#dictionar data type\n",
    "print(d['course_name'])\n",
    "print(d, type(d))\n",
    "\n",
    "\n",
    "my_set={1,2,3}\n",
    "print(my_set,type(my_set))#set data type\n",
    "s={10,20,30,10}\n",
    "print(s,type(s))"
   ]
  },
  {
   "cell_type": "markdown",
   "id": "fee02ace-c627-45d3-8f12-a1d3e5082756",
   "metadata": {},
   "source": [
    "#Getting user input and type casting"
   ]
  },
  {
   "cell_type": "code",
   "execution_count": 37,
   "id": "9fa393aa-4bb1-4418-806d-da42a590b2f6",
   "metadata": {},
   "outputs": [
    {
     "name": "stdin",
     "output_type": "stream",
     "text": [
      "Enter the first number:  5\n",
      "Enter the second number:  5\n"
     ]
    },
    {
     "name": "stdout",
     "output_type": "stream",
     "text": [
      "10\n"
     ]
    }
   ],
   "source": [
    "x=int(input(\"Enter the first number: \"))\n",
    "y=int(input(\"Enter the second number: \"))\n",
    "print(x+y)"
   ]
  },
  {
   "cell_type": "markdown",
   "id": "21b7aa7f-c038-435f-92b3-3c1e7b2205d7",
   "metadata": {},
   "source": [
    "# if statement"
   ]
  },
  {
   "cell_type": "code",
   "execution_count": 9,
   "id": "9d643b4e-4435-49f7-bb21-3155104833cd",
   "metadata": {},
   "outputs": [
    {
     "name": "stdout",
     "output_type": "stream",
     "text": [
      "Even number\n"
     ]
    }
   ],
   "source": [
    "a=10\n",
    "if a%2==0:\n",
    " print(\"Even number\")"
   ]
  },
  {
   "cell_type": "code",
   "execution_count": 13,
   "id": "c2b340b1-5c34-4157-9842-a9e2ac5c1658",
   "metadata": {},
   "outputs": [
    {
     "name": "stdin",
     "output_type": "stream",
     "text": [
      "Enter the number :-  10\n"
     ]
    },
    {
     "name": "stdout",
     "output_type": "stream",
     "text": [
      "It is even number : \n"
     ]
    }
   ],
   "source": [
    "a=int(input(\"Enter the number :- \"))\n",
    "if a%2==0:\n",
    " print(\"It is even number : \")\n"
   ]
  },
  {
   "cell_type": "markdown",
   "id": "fc446c5f-47ce-44b1-abef-dee6ebd33184",
   "metadata": {},
   "source": [
    "# if else statement "
   ]
  },
  {
   "cell_type": "code",
   "execution_count": 15,
   "id": "2a2abb74-dcda-4509-b4ea-992f05d13f55",
   "metadata": {},
   "outputs": [
    {
     "name": "stdout",
     "output_type": "stream",
     "text": [
      "It is even number\n"
     ]
    }
   ],
   "source": [
    "a=10\n",
    "b=5\n",
    "if a==10:\n",
    "    print(\"It is even number\")\n",
    "else:\n",
    "    print(\"It is odd number\")"
   ]
  },
  {
   "cell_type": "code",
   "execution_count": 21,
   "id": "6896087c-d836-4cf9-bc8f-7602e2d41cf3",
   "metadata": {},
   "outputs": [
    {
     "name": "stdin",
     "output_type": "stream",
     "text": [
      "Enter the value:  65\n"
     ]
    },
    {
     "name": "stdout",
     "output_type": "stream",
     "text": [
      "65 It is odd number\n"
     ]
    }
   ],
   "source": [
    "a=int(input(\"Enter the value: \"))\n",
    "if a%2==0:\n",
    "    print(a, \"It is even number\")\n",
    "else:\n",
    "    print(a, \"It is odd number\")"
   ]
  },
  {
   "cell_type": "markdown",
   "id": "445e2e7c-cb2c-4731-b7d2-a31ee74fb837",
   "metadata": {},
   "source": [
    "#if elif esle statement "
   ]
  },
  {
   "cell_type": "code",
   "execution_count": 35,
   "id": "9db9fa3e-8af9-4110-848a-1c74816a6df4",
   "metadata": {},
   "outputs": [
    {
     "name": "stdin",
     "output_type": "stream",
     "text": [
      "Enter the percentage:  65\n"
     ]
    },
    {
     "name": "stdout",
     "output_type": "stream",
     "text": [
      "You are first division.\n"
     ]
    }
   ],
   "source": [
    "per=int(input(\"Enter the percentage: \"))\n",
    "if per>=60: \n",
    "    print(\"You are first division.\")\n",
    "elif per>=40: \n",
    "    print(\"You are second division. \")\n",
    "elif per>=30: \n",
    "    print(\"You are third division. \")\n",
    "else:\n",
    "    print(\"You are fail \")"
   ]
  },
  {
   "cell_type": "markdown",
   "id": "64ad6b8a-54eb-4d83-9837-8cf0d92f1e2a",
   "metadata": {},
   "source": [
    "# Simple calculator program "
   ]
  },
  {
   "cell_type": "code",
   "execution_count": 37,
   "id": "5ef18ba7-7f93-4f89-9127-7a4ef70c2d62",
   "metadata": {},
   "outputs": [
    {
     "name": "stdout",
     "output_type": "stream",
     "text": [
      "\n",
      "+ ADD\n",
      "- SUBTRACT\n",
      "* MULTIPLY\n",
      "/ DIVIDE\n",
      "\n"
     ]
    },
    {
     "name": "stdin",
     "output_type": "stream",
     "text": [
      "Enter the value1:  45\n",
      "Enter the value2:  12\n",
      "Enter the opr...(+,-,*,/) *\n"
     ]
    },
    {
     "name": "stdout",
     "output_type": "stream",
     "text": [
      "540\n"
     ]
    }
   ],
   "source": [
    "print('''\n",
    "+ ADD\n",
    "- SUBTRACT\n",
    "* MULTIPLY\n",
    "/ DIVIDE\n",
    "''')\n",
    "num1=int(input(\"Enter the value1: \"))\n",
    "num2=int(input(\"Enter the value2: \"))\n",
    "opr=input(\"Enter the opr...(+,-,*,/)\")\n",
    "if opr==\"+\":\n",
    "    print(num1+num2)\n",
    "elif opr==\"-\":\n",
    "    print(num1-num2)\n",
    "elif opr==\"*\":\n",
    "    print(num1*num2)\n",
    "elif opr==\"/\":\n",
    "    print(num1/num2)\n",
    "else:\n",
    "    pritn(\"Invalid opr....:\")\n",
    "   \n",
    "\n"
   ]
  }
 ],
 "metadata": {
  "kernelspec": {
   "display_name": "Python [conda env:base] *",
   "language": "python",
   "name": "conda-base-py"
  },
  "language_info": {
   "codemirror_mode": {
    "name": "ipython",
    "version": 3
   },
   "file_extension": ".py",
   "mimetype": "text/x-python",
   "name": "python",
   "nbconvert_exporter": "python",
   "pygments_lexer": "ipython3",
   "version": "3.12.7"
  }
 },
 "nbformat": 4,
 "nbformat_minor": 5
}
